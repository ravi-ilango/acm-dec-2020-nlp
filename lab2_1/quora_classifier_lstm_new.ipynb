{
  "nbformat": 4,
  "nbformat_minor": 0,
  "metadata": {
    "accelerator": "GPU",
    "colab": {
      "name": "quora_classifier_lstm_new.ipynb",
      "provenance": [],
      "collapsed_sections": [
        "FLsmS0s7kMVa",
        "qIY4vg94kMVb"
      ]
    },
    "kernelspec": {
      "display_name": "venv",
      "language": "python",
      "name": "venv"
    },
    "language_info": {
      "codemirror_mode": {
        "name": "ipython",
        "version": 3
      },
      "file_extension": ".py",
      "mimetype": "text/x-python",
      "name": "python",
      "nbconvert_exporter": "python",
      "pygments_lexer": "ipython3",
      "version": "3.7.3"
    }
  },
  "cells": [
    {
      "cell_type": "markdown",
      "metadata": {
        "id": "AFQT1CZGkMVJ"
      },
      "source": [
        "# Quora Insincere Questions Classification\n",
        "## Detect toxic content to improve online conversations\n",
        "\n"
      ]
    },
    {
      "cell_type": "code",
      "metadata": {
        "colab": {
          "base_uri": "https://localhost:8080/"
        },
        "id": "JJ2jw6OlkMVK",
        "outputId": "b2876015-25c3-476e-d7b0-c31fd2fa6f6a"
      },
      "source": [
        "!wget https://github.com/ravi-ilango/acm-dec-2020-nlp/blob/main/lab2_1/quora_data.zip?raw=true -O quora_data.zip\n",
        "\n",
        "!unzip quora_data.zip"
      ],
      "execution_count": 4,
      "outputs": [
        {
          "output_type": "stream",
          "text": [
            "--2021-03-19 15:54:02--  https://github.com/ravi-ilango/acm-dec-2020-nlp/blob/main/lab2_1/quora_data.zip?raw=true\n",
            "Resolving github.com (github.com)... 140.82.121.4\n",
            "Connecting to github.com (github.com)|140.82.121.4|:443... connected.\n",
            "HTTP request sent, awaiting response... 301 Moved Permanently\n",
            "Location: https://github.com/ravi-ilango/aicamp-mar-2021/blob/main/lab2_1/quora_data.zip?raw=true [following]\n",
            "--2021-03-19 15:54:02--  https://github.com/ravi-ilango/aicamp-mar-2021/blob/main/lab2_1/quora_data.zip?raw=true\n",
            "Reusing existing connection to github.com:443.\n",
            "HTTP request sent, awaiting response... 302 Found\n",
            "Location: https://github.com/ravi-ilango/aicamp-mar-2021/raw/main/lab2_1/quora_data.zip [following]\n",
            "--2021-03-19 15:54:02--  https://github.com/ravi-ilango/aicamp-mar-2021/raw/main/lab2_1/quora_data.zip\n",
            "Reusing existing connection to github.com:443.\n",
            "HTTP request sent, awaiting response... 302 Found\n",
            "Location: https://raw.githubusercontent.com/ravi-ilango/aicamp-mar-2021/main/lab2_1/quora_data.zip [following]\n",
            "--2021-03-19 15:54:03--  https://raw.githubusercontent.com/ravi-ilango/aicamp-mar-2021/main/lab2_1/quora_data.zip\n",
            "Resolving raw.githubusercontent.com (raw.githubusercontent.com)... 185.199.108.133, 185.199.109.133, 185.199.110.133, ...\n",
            "Connecting to raw.githubusercontent.com (raw.githubusercontent.com)|185.199.108.133|:443... connected.\n",
            "HTTP request sent, awaiting response... 200 OK\n",
            "Length: 57048760 (54M) [application/zip]\n",
            "Saving to: ‘quora_data.zip’\n",
            "\n",
            "quora_data.zip      100%[===================>]  54.41M   174MB/s    in 0.3s    \n",
            "\n",
            "2021-03-19 15:54:05 (174 MB/s) - ‘quora_data.zip’ saved [57048760/57048760]\n",
            "\n",
            "Archive:  quora_data.zip\n",
            "   creating: quora_data/\n",
            "  inflating: quora_data/train.csv    \n",
            "   creating: __MACOSX/\n",
            "   creating: __MACOSX/quora_data/\n",
            "  inflating: __MACOSX/quora_data/._train.csv  \n",
            "  inflating: __MACOSX/._quora_data   \n"
          ],
          "name": "stdout"
        }
      ]
    },
    {
      "cell_type": "code",
      "metadata": {
        "id": "NnrBk_DwkMVL"
      },
      "source": [
        "import random\n",
        "import os\n",
        "from datetime import datetime\n",
        "import pandas as pd\n",
        "\n",
        "import torch   \n",
        "from torchtext import data \n",
        "from torch.autograd import Variable"
      ],
      "execution_count": 1,
      "outputs": []
    },
    {
      "cell_type": "code",
      "metadata": {
        "id": "ywRd3TxnkMVL"
      },
      "source": [
        "#Reproducing same results\n",
        "SEED = 2315\n",
        "\n",
        "#Torch\n",
        "torch.manual_seed(SEED)\n",
        "\n",
        "#Cuda algorithms\n",
        "torch.backends.cudnn.deterministic = True "
      ],
      "execution_count": 2,
      "outputs": []
    },
    {
      "cell_type": "code",
      "metadata": {
        "id": "YDwJRbGTkMVM"
      },
      "source": [
        ""
      ],
      "execution_count": 2,
      "outputs": []
    },
    {
      "cell_type": "markdown",
      "metadata": {
        "id": "K-2121-jkMVM"
      },
      "source": [
        "### Load custom dataset"
      ]
    },
    {
      "cell_type": "code",
      "metadata": {
        "colab": {
          "base_uri": "https://localhost:8080/",
          "height": 215
        },
        "id": "LiEahtGikMVM",
        "outputId": "1095323f-d63a-463a-cad0-ea7fec07733f"
      },
      "source": [
        "df = pd.read_csv('quora_data/train.csv')\n",
        "\n",
        "print (f\"Number of records: {len(df)}\")\n",
        "\n",
        "df.head()"
      ],
      "execution_count": 5,
      "outputs": [
        {
          "output_type": "stream",
          "text": [
            "Number of records: 1306122\n"
          ],
          "name": "stdout"
        },
        {
          "output_type": "execute_result",
          "data": {
            "text/html": [
              "<div>\n",
              "<style scoped>\n",
              "    .dataframe tbody tr th:only-of-type {\n",
              "        vertical-align: middle;\n",
              "    }\n",
              "\n",
              "    .dataframe tbody tr th {\n",
              "        vertical-align: top;\n",
              "    }\n",
              "\n",
              "    .dataframe thead th {\n",
              "        text-align: right;\n",
              "    }\n",
              "</style>\n",
              "<table border=\"1\" class=\"dataframe\">\n",
              "  <thead>\n",
              "    <tr style=\"text-align: right;\">\n",
              "      <th></th>\n",
              "      <th>qid</th>\n",
              "      <th>question_text</th>\n",
              "      <th>target</th>\n",
              "    </tr>\n",
              "  </thead>\n",
              "  <tbody>\n",
              "    <tr>\n",
              "      <th>0</th>\n",
              "      <td>00002165364db923c7e6</td>\n",
              "      <td>How did Quebec nationalists see their province...</td>\n",
              "      <td>0</td>\n",
              "    </tr>\n",
              "    <tr>\n",
              "      <th>1</th>\n",
              "      <td>000032939017120e6e44</td>\n",
              "      <td>Do you have an adopted dog, how would you enco...</td>\n",
              "      <td>0</td>\n",
              "    </tr>\n",
              "    <tr>\n",
              "      <th>2</th>\n",
              "      <td>0000412ca6e4628ce2cf</td>\n",
              "      <td>Why does velocity affect time? Does velocity a...</td>\n",
              "      <td>0</td>\n",
              "    </tr>\n",
              "    <tr>\n",
              "      <th>3</th>\n",
              "      <td>000042bf85aa498cd78e</td>\n",
              "      <td>How did Otto von Guericke used the Magdeburg h...</td>\n",
              "      <td>0</td>\n",
              "    </tr>\n",
              "    <tr>\n",
              "      <th>4</th>\n",
              "      <td>0000455dfa3e01eae3af</td>\n",
              "      <td>Can I convert montra helicon D to a mountain b...</td>\n",
              "      <td>0</td>\n",
              "    </tr>\n",
              "  </tbody>\n",
              "</table>\n",
              "</div>"
            ],
            "text/plain": [
              "                    qid  ... target\n",
              "0  00002165364db923c7e6  ...      0\n",
              "1  000032939017120e6e44  ...      0\n",
              "2  0000412ca6e4628ce2cf  ...      0\n",
              "3  000042bf85aa498cd78e  ...      0\n",
              "4  0000455dfa3e01eae3af  ...      0\n",
              "\n",
              "[5 rows x 3 columns]"
            ]
          },
          "metadata": {
            "tags": []
          },
          "execution_count": 5
        }
      ]
    },
    {
      "cell_type": "code",
      "metadata": {
        "id": "SYx-kshlkMVN"
      },
      "source": [
        "df['length'] = df['question_text'].apply(lambda s: len(s.split()))\n",
        "df.sort_values(by=['length'], ascending=False, inplace=True)"
      ],
      "execution_count": 6,
      "outputs": []
    },
    {
      "cell_type": "code",
      "metadata": {
        "colab": {
          "base_uri": "https://localhost:8080/",
          "height": 282
        },
        "id": "0SVN8_rakMVN",
        "outputId": "941f78d0-1dcb-4138-de13-ea2dca0ec120"
      },
      "source": [
        "df['length'].hist()"
      ],
      "execution_count": 7,
      "outputs": [
        {
          "output_type": "execute_result",
          "data": {
            "text/plain": [
              "<matplotlib.axes._subplots.AxesSubplot at 0x7f1ddbcaffd0>"
            ]
          },
          "metadata": {
            "tags": []
          },
          "execution_count": 7
        },
        {
          "output_type": "display_data",
          "data": {
            "image/png": "[encoded data removed]",
            "text/plain": [
              "<Figure size 432x288 with 1 Axes>"
            ]
          },
          "metadata": {
            "tags": [],
            "needs_background": "light"
          }
        }
      ]
    },
    {
      "cell_type": "code",
      "metadata": {
        "id": "TvNC126dkMVO"
      },
      "source": [
        "df = df[(df['length'] >= 5) & (df['length'] <= 30)]"
      ],
      "execution_count": 8,
      "outputs": []
    },
    {
      "cell_type": "code",
      "metadata": {
        "colab": {
          "base_uri": "https://localhost:8080/",
          "height": 198
        },
        "id": "uAF_cmBgkMVO",
        "outputId": "bb12546b-4c8c-47cf-876c-483407469661"
      },
      "source": [
        "df.head()"
      ],
      "execution_count": 9,
      "outputs": [
        {
          "output_type": "execute_result",
          "data": {
            "text/html": [
              "<div>\n",
              "<style scoped>\n",
              "    .dataframe tbody tr th:only-of-type {\n",
              "        vertical-align: middle;\n",
              "    }\n",
              "\n",
              "    .dataframe tbody tr th {\n",
              "        vertical-align: top;\n",
              "    }\n",
              "\n",
              "    .dataframe thead th {\n",
              "        text-align: right;\n",
              "    }\n",
              "</style>\n",
              "<table border=\"1\" class=\"dataframe\">\n",
              "  <thead>\n",
              "    <tr style=\"text-align: right;\">\n",
              "      <th></th>\n",
              "      <th>qid</th>\n",
              "      <th>question_text</th>\n",
              "      <th>target</th>\n",
              "      <th>length</th>\n",
              "    </tr>\n",
              "  </thead>\n",
              "  <tbody>\n",
              "    <tr>\n",
              "      <th>589578</th>\n",
              "      <td>737e3b7a579a65aeaf88</td>\n",
              "      <td>Why does the media keep saying that Trump supp...</td>\n",
              "      <td>1</td>\n",
              "      <td>30</td>\n",
              "    </tr>\n",
              "    <tr>\n",
              "      <th>1179451</th>\n",
              "      <td>e7204436719cb4948912</td>\n",
              "      <td>What is the right luxury watch for me? I want ...</td>\n",
              "      <td>0</td>\n",
              "      <td>30</td>\n",
              "    </tr>\n",
              "    <tr>\n",
              "      <th>1112213</th>\n",
              "      <td>d9f07cc67def50c215a8</td>\n",
              "      <td>What form will the digital divide likely take ...</td>\n",
              "      <td>0</td>\n",
              "      <td>30</td>\n",
              "    </tr>\n",
              "    <tr>\n",
              "      <th>1179966</th>\n",
              "      <td>e739e624694a7a5a85b8</td>\n",
              "      <td>The person who makes me doesn't use me. The pe...</td>\n",
              "      <td>0</td>\n",
              "      <td>30</td>\n",
              "    </tr>\n",
              "    <tr>\n",
              "      <th>1059072</th>\n",
              "      <td>cf83f36e915655cac602</td>\n",
              "      <td>Why are programmers so arrogant and mock every...</td>\n",
              "      <td>1</td>\n",
              "      <td>30</td>\n",
              "    </tr>\n",
              "  </tbody>\n",
              "</table>\n",
              "</div>"
            ],
            "text/plain": [
              "                          qid  ... length\n",
              "589578   737e3b7a579a65aeaf88  ...     30\n",
              "1179451  e7204436719cb4948912  ...     30\n",
              "1112213  d9f07cc67def50c215a8  ...     30\n",
              "1179966  e739e624694a7a5a85b8  ...     30\n",
              "1059072  cf83f36e915655cac602  ...     30\n",
              "\n",
              "[5 rows x 4 columns]"
            ]
          },
          "metadata": {
            "tags": []
          },
          "execution_count": 9
        }
      ]
    },
    {
      "cell_type": "code",
      "metadata": {
        "id": "BHgV_WhskMVO"
      },
      "source": [
        "from torchtext.data.utils import get_tokenizer\n",
        "from collections import Counter\n",
        "from torchtext.vocab import Vocab\n",
        "\n",
        "tokenizer = get_tokenizer('basic_english')\n"
      ],
      "execution_count": 10,
      "outputs": []
    },
    {
      "cell_type": "code",
      "metadata": {
        "id": "eo4_AwDykMVP"
      },
      "source": [
        "# This step takes few minutes\n",
        "\n",
        "counter = Counter()\n",
        "for _, row in df.iterrows():\n",
        "    counter.update(tokenizer(row['question_text']))\n",
        "\n",
        "vocab = Vocab(counter, min_freq=1)"
      ],
      "execution_count": 11,
      "outputs": []
    },
    {
      "cell_type": "code",
      "metadata": {
        "colab": {
          "base_uri": "https://localhost:8080/"
        },
        "id": "THozdaIrkMVP",
        "outputId": "f627b6c2-2edc-46e1-921f-50ff7ab7d21f"
      },
      "source": [
        "print(f\"Size of TEXT vocabulary: {len(vocab)}\\n\")\n",
        "\n",
        "print(f\"Commonly used words: {vocab.freqs.most_common(10)}\\n\")"
      ],
      "execution_count": 12,
      "outputs": [
        {
          "output_type": "stream",
          "text": [
            "Size of TEXT vocabulary: 243897\n",
            "\n",
            "Commonly used words: [('?', 1295821), ('the', 609846), ('what', 444066), ('is', 402302), ('a', 367958), ('to', 360368), ('in', 349517), ('of', 304397), ('i', 282004), ('how', 276081)]\n",
            "\n"
          ],
          "name": "stdout"
        }
      ]
    },
    {
      "cell_type": "code",
      "metadata": {
        "id": "sdBnFHe9kMVP"
      },
      "source": [
        "text_pipeline = lambda x: [vocab[token] for token in tokenizer(x)]\n",
        "\n",
        "label_pipeline = lambda x: int(x)"
      ],
      "execution_count": 13,
      "outputs": []
    },
    {
      "cell_type": "markdown",
      "metadata": {
        "id": "6J2N6JhQkMVQ"
      },
      "source": [
        "### Custom DataLoader"
      ]
    },
    {
      "cell_type": "code",
      "metadata": {
        "colab": {
          "base_uri": "https://localhost:8080/"
        },
        "id": "4fyXLGR0kMVQ",
        "outputId": "b25b03f9-02e7-44a9-f9dd-40d23219a419"
      },
      "source": [
        "#Split into training and validation datasets\n",
        "\n",
        "from sklearn.model_selection import train_test_split\n",
        "\n",
        "train, test = train_test_split(df, test_size=0.5)\n",
        "train, valid = train_test_split(train, test_size=0.4)\n",
        "\n",
        "train.sort_values(by=['length'], ascending=False, inplace=True)\n",
        "test.sort_values(by=['length'], ascending=False, inplace=True)\n",
        "valid.sort_values(by=['length'], ascending=False, inplace=True)"
      ],
      "execution_count": 14,
      "outputs": [
        {
          "output_type": "stream",
          "text": [
            "/usr/local/lib/python3.7/dist-packages/ipykernel_launcher.py:9: SettingWithCopyWarning: \n",
            "A value is trying to be set on a copy of a slice from a DataFrame\n",
            "\n",
            "See the caveats in the documentation: https://pandas.pydata.org/pandas-docs/stable/user_guide/indexing.html#returning-a-view-versus-a-copy\n",
            "  if __name__ == '__main__':\n"
          ],
          "name": "stderr"
        }
      ]
    },
    {
      "cell_type": "code",
      "metadata": {
        "colab": {
          "base_uri": "https://localhost:8080/",
          "height": 407
        },
        "id": "7dJfn_ygkMVR",
        "outputId": "24bd4492-9109-4364-96ab-d3ab05f134e1"
      },
      "source": [
        "test"
      ],
      "execution_count": 15,
      "outputs": [
        {
          "output_type": "execute_result",
          "data": {
            "text/html": [
              "<div>\n",
              "<style scoped>\n",
              "    .dataframe tbody tr th:only-of-type {\n",
              "        vertical-align: middle;\n",
              "    }\n",
              "\n",
              "    .dataframe tbody tr th {\n",
              "        vertical-align: top;\n",
              "    }\n",
              "\n",
              "    .dataframe thead th {\n",
              "        text-align: right;\n",
              "    }\n",
              "</style>\n",
              "<table border=\"1\" class=\"dataframe\">\n",
              "  <thead>\n",
              "    <tr style=\"text-align: right;\">\n",
              "      <th></th>\n",
              "      <th>qid</th>\n",
              "      <th>question_text</th>\n",
              "      <th>target</th>\n",
              "      <th>length</th>\n",
              "    </tr>\n",
              "  </thead>\n",
              "  <tbody>\n",
              "    <tr>\n",
              "      <th>1029238</th>\n",
              "      <td>c9b0c3af12b78bb583dd</td>\n",
              "      <td>Would it be OK for me, a practicing Catholic, ...</td>\n",
              "      <td>0</td>\n",
              "      <td>30</td>\n",
              "    </tr>\n",
              "    <tr>\n",
              "      <th>906060</th>\n",
              "      <td>b18a6cc1031f477a78ae</td>\n",
              "      <td>I sometimes wonder why it seems to be acceptab...</td>\n",
              "      <td>1</td>\n",
              "      <td>30</td>\n",
              "    </tr>\n",
              "    <tr>\n",
              "      <th>1265616</th>\n",
              "      <td>f808f43fecdf1d10a045</td>\n",
              "      <td>During my Accenture candidate phase (campus re...</td>\n",
              "      <td>0</td>\n",
              "      <td>30</td>\n",
              "    </tr>\n",
              "    <tr>\n",
              "      <th>614212</th>\n",
              "      <td>78475721cc7c048db029</td>\n",
              "      <td>How do republicans justify 1.5 trillion in deb...</td>\n",
              "      <td>1</td>\n",
              "      <td>30</td>\n",
              "    </tr>\n",
              "    <tr>\n",
              "      <th>1241177</th>\n",
              "      <td>f33b938f62130ae192f4</td>\n",
              "      <td>What can I, as an Indian who isn't rich enough...</td>\n",
              "      <td>0</td>\n",
              "      <td>30</td>\n",
              "    </tr>\n",
              "    <tr>\n",
              "      <th>...</th>\n",
              "      <td>...</td>\n",
              "      <td>...</td>\n",
              "      <td>...</td>\n",
              "      <td>...</td>\n",
              "    </tr>\n",
              "    <tr>\n",
              "      <th>78851</th>\n",
              "      <td>0f7015d6c5316028b7a1</td>\n",
              "      <td>What is content delivery network?</td>\n",
              "      <td>0</td>\n",
              "      <td>5</td>\n",
              "    </tr>\n",
              "    <tr>\n",
              "      <th>388083</th>\n",
              "      <td>4c0735d4582646dd2e3e</td>\n",
              "      <td>How do process explorers work?</td>\n",
              "      <td>0</td>\n",
              "      <td>5</td>\n",
              "    </tr>\n",
              "    <tr>\n",
              "      <th>952388</th>\n",
              "      <td>ba9eb7a06777b5b1a155</td>\n",
              "      <td>What BSDs support Linux applications?</td>\n",
              "      <td>0</td>\n",
              "      <td>5</td>\n",
              "    </tr>\n",
              "    <tr>\n",
              "      <th>927002</th>\n",
              "      <td>b5a8d76b24d25e6d24c0</td>\n",
              "      <td>To have sex with aunt?</td>\n",
              "      <td>1</td>\n",
              "      <td>5</td>\n",
              "    </tr>\n",
              "    <tr>\n",
              "      <th>649236</th>\n",
              "      <td>7f269cea279f532d4ffb</td>\n",
              "      <td>Is childhood a social construct?</td>\n",
              "      <td>0</td>\n",
              "      <td>5</td>\n",
              "    </tr>\n",
              "  </tbody>\n",
              "</table>\n",
              "<p>618226 rows × 4 columns</p>\n",
              "</div>"
            ],
            "text/plain": [
              "                          qid  ... length\n",
              "1029238  c9b0c3af12b78bb583dd  ...     30\n",
              "906060   b18a6cc1031f477a78ae  ...     30\n",
              "1265616  f808f43fecdf1d10a045  ...     30\n",
              "614212   78475721cc7c048db029  ...     30\n",
              "1241177  f33b938f62130ae192f4  ...     30\n",
              "...                       ...  ...    ...\n",
              "78851    0f7015d6c5316028b7a1  ...      5\n",
              "388083   4c0735d4582646dd2e3e  ...      5\n",
              "952388   ba9eb7a06777b5b1a155  ...      5\n",
              "927002   b5a8d76b24d25e6d24c0  ...      5\n",
              "649236   7f269cea279f532d4ffb  ...      5\n",
              "\n",
              "[618226 rows x 4 columns]"
            ]
          },
          "metadata": {
            "tags": []
          },
          "execution_count": 15
        }
      ]
    },
    {
      "cell_type": "code",
      "metadata": {
        "id": "ZwXiJjMNkMVR"
      },
      "source": [
        "from torch.utils.data import DataLoader\n",
        "device = torch.device(\"cuda\" if torch.cuda.is_available() else \"cpu\")\n",
        "\n",
        "from torch.utils.data import Dataset\n",
        "\n",
        "class PandasDataset(Dataset):\n",
        "    def __init__(self, dataframe):\n",
        "        self.dataframe = dataframe\n",
        "\n",
        "    def __len__(self):\n",
        "        return len(self.dataframe)\n",
        "\n",
        "    def __getitem__(self, index):\n",
        "        return self.dataframe.iloc[index]\n",
        "\n",
        "def generate_batch(batch):\n",
        "    label_list, text_list, text_length_list = [], [], []\n",
        "    SEQSIZE = len(batch[0]['question_text'].split())\n",
        "    for row in batch:\n",
        "        _text = row['question_text']\n",
        "        _label = row['target']\n",
        "        label_list.append(label_pipeline(_label))\n",
        "        processed_text = text_pipeline(_text)[:SEQSIZE]\n",
        "        text_length_list.append(len(processed_text))\n",
        "        processed_text += [1]*(SEQSIZE-len(processed_text))\n",
        "        text_list.append(processed_text)\n",
        "    label_list = torch.tensor(label_list, dtype=torch.float32)\n",
        "    text_list = torch.tensor(text_list, dtype=torch.int64)\n",
        "    text_length_list = torch.tensor(text_length_list, dtype=torch.int64)\n",
        "    return label_list.to(device), text_list.to(device), text_length_list\n",
        "    \n",
        "batch_size = 64\n",
        "\n",
        "dataloader_train = DataLoader(PandasDataset(train), batch_size=batch_size, shuffle=False, collate_fn=generate_batch)\n",
        "\n",
        "dataloader_test = DataLoader(PandasDataset(test), batch_size=batch_size, shuffle=False, collate_fn=generate_batch)\n",
        "\n",
        "dataloader_valid = DataLoader(PandasDataset(valid), batch_size=batch_size, shuffle=False, collate_fn=generate_batch)"
      ],
      "execution_count": 16,
      "outputs": []
    },
    {
      "cell_type": "code",
      "metadata": {
        "colab": {
          "base_uri": "https://localhost:8080/"
        },
        "id": "tTa65N3bkMVR",
        "outputId": "4707b889-4698-47ab-f43d-a9bb3f1c0c05"
      },
      "source": [
        "len(dataloader_train)"
      ],
      "execution_count": 17,
      "outputs": [
        {
          "output_type": "execute_result",
          "data": {
            "text/plain": [
              "5796"
            ]
          },
          "metadata": {
            "tags": []
          },
          "execution_count": 17
        }
      ]
    },
    {
      "cell_type": "markdown",
      "metadata": {
        "id": "7oYMiDwgkMVS"
      },
      "source": [
        "### LSTM Classifier"
      ]
    },
    {
      "cell_type": "code",
      "metadata": {
        "id": "9Zfuj0OYkMVS"
      },
      "source": [
        "import torch.nn as nn\n",
        "\n",
        "class classifier(nn.Module):\n",
        "    \n",
        "    #define all the layers used in model\n",
        "    def __init__(self, vocab_size, embedding_dim, hidden_dim, output_dim, num_layers, \n",
        "                 bidirectional, dropout):\n",
        "        \n",
        "        #Constructor\n",
        "        super().__init__()          \n",
        "        \n",
        "        #embedding layer\n",
        "        self.embedding = nn.Embedding(vocab_size, embedding_dim)\n",
        "        \n",
        "        #lstm layer\n",
        "        self.lstm = nn.LSTM(embedding_dim, \n",
        "                           hidden_dim, \n",
        "                           num_layers=num_layers, \n",
        "                           bidirectional=bidirectional, \n",
        "                           dropout=dropout,\n",
        "                           batch_first=True)\n",
        "        \n",
        "        #dense layer\n",
        "        self.fc = nn.Linear(hidden_dim * 2, output_dim)\n",
        "        \n",
        "        #activation function\n",
        "        self.act = nn.Sigmoid()\n",
        "        \n",
        "    def forward(self, text, text_lengths):\n",
        "        \n",
        "        #text = [batch size,sent_length]\n",
        "        embedded = self.embedding(text)\n",
        "        #embedded = [batch size, sent_len, emb dim]\n",
        "      \n",
        "        #packed sequence\n",
        "        packed_embedded = nn.utils.rnn.pack_padded_sequence(embedded, \n",
        "                                                            text_lengths,\n",
        "                                                            batch_first=True,\n",
        "                                                            enforce_sorted=False)\n",
        "        packed_output, (hidden, cell) = self.lstm(packed_embedded)\n",
        "\n",
        "        #hidden = [batch size, num layers * num directions,hid dim]\n",
        "        #cell = [batch size, num layers * num directions,hid dim]\n",
        "\n",
        "        #concat the final forward and backward hidden state\n",
        "        hidden = torch.cat((hidden[-2,:,:], hidden[-1,:,:]), dim = 1)\n",
        "                \n",
        "        #hidden = [batch size, hid dim * num directions]\n",
        "        dense_outputs=self.fc(hidden)\n",
        "\n",
        "        #Final activation function\n",
        "        outputs=self.act(dense_outputs)\n",
        "        \n",
        "        return outputs\n"
      ],
      "execution_count": 18,
      "outputs": []
    },
    {
      "cell_type": "markdown",
      "metadata": {
        "id": "RKQhp9LfkMVT"
      },
      "source": [
        "#### Instantiate a LSTM Classifier model"
      ]
    },
    {
      "cell_type": "code",
      "metadata": {
        "id": "-8ted3ThkMVT"
      },
      "source": [
        "#define hyperparameters\n",
        "size_of_vocab = len(vocab)\n",
        "embedding_dim = 100\n",
        "hidden_dim = 32\n",
        "output_dim = 1\n",
        "num_layers = 2\n",
        "bidirection = True\n",
        "dropout = 0.2\n",
        "\n",
        "#instantiate the model\n",
        "model = classifier(size_of_vocab, embedding_dim, hidden_dim, output_dim, num_layers, \n",
        "                   bidirectional = True, dropout = dropout)\n",
        "\n"
      ],
      "execution_count": 19,
      "outputs": []
    },
    {
      "cell_type": "code",
      "metadata": {
        "id": "OfKDgJ6hkMVT"
      },
      "source": [
        ""
      ],
      "execution_count": 19,
      "outputs": []
    },
    {
      "cell_type": "code",
      "metadata": {
        "colab": {
          "base_uri": "https://localhost:8080/"
        },
        "id": "YFvKfHC7kMVU",
        "outputId": "f460e54b-62c6-4083-c30d-9e9fac80a118"
      },
      "source": [
        "#architecture\n",
        "print(model)\n",
        "\n",
        "#No. of trainable parameters\n",
        "def count_parameters(model):\n",
        "    return sum(p.numel() for p in model.parameters() if p.requires_grad)\n",
        "    \n",
        "print(f'The model has {count_parameters(model):,} trainable parameters')\n",
        "\n",
        "# #Initialize the pretrained embedding  ()\n",
        "# pretrained_embeddings = TEXT.vocab.vectors\n",
        "# # model.embedding.weight.data.copy_(pretrained_embeddings) # TODO PLEASE USE THIS FOR LSTM\n",
        "\n",
        "# print(pretrained_embeddings.shape)"
      ],
      "execution_count": 20,
      "outputs": [
        {
          "output_type": "stream",
          "text": [
            "classifier(\n",
            "  (embedding): Embedding(243897, 100)\n",
            "  (lstm): LSTM(100, 32, num_layers=2, batch_first=True, dropout=0.2, bidirectional=True)\n",
            "  (fc): Linear(in_features=64, out_features=1, bias=True)\n",
            "  (act): Sigmoid()\n",
            ")\n",
            "The model has 24,449,157 trainable parameters\n"
          ],
          "name": "stdout"
        }
      ]
    },
    {
      "cell_type": "code",
      "metadata": {
        "id": "PNzl2EWAkMVU"
      },
      "source": [
        "import torch.optim as optim\n",
        "\n",
        "#define optimizer and loss\n",
        "optimizer = optim.Adam(model.parameters())\n",
        "criterion = nn.BCELoss()\n",
        "\n",
        "#define metric\n",
        "def binary_accuracy(preds, y):\n",
        "    #round predictions to the closest integer\n",
        "    rounded_preds = torch.round(preds)\n",
        "    \n",
        "    correct = (rounded_preds == y).float() \n",
        "    acc = correct.sum() / len(correct)\n",
        "    return acc\n",
        "    \n",
        "#push to cuda if available\n",
        "model = model.to(device)\n",
        "criterion = criterion.to(device)"
      ],
      "execution_count": 21,
      "outputs": []
    },
    {
      "cell_type": "code",
      "metadata": {
        "colab": {
          "base_uri": "https://localhost:8080/"
        },
        "id": "8-SxQoyUkMVV",
        "outputId": "c2196b40-01a7-40a9-e8e2-6bf1a8f1578c"
      },
      "source": [
        "device"
      ],
      "execution_count": 22,
      "outputs": [
        {
          "output_type": "execute_result",
          "data": {
            "text/plain": [
              "device(type='cuda')"
            ]
          },
          "metadata": {
            "tags": []
          },
          "execution_count": 22
        }
      ]
    },
    {
      "cell_type": "code",
      "metadata": {
        "id": "gfrlcm5pkMVV"
      },
      "source": [
        ""
      ],
      "execution_count": 22,
      "outputs": []
    },
    {
      "cell_type": "markdown",
      "metadata": {
        "id": "VZVi1ul7kMVV"
      },
      "source": [
        "### Model Train function "
      ]
    },
    {
      "cell_type": "code",
      "metadata": {
        "id": "IMQzp_QKkMVV"
      },
      "source": [
        "def train(model, dataloader, optimizer, criterion):\n",
        "    \n",
        "    #initialize every epoch \n",
        "    epoch_loss = 0\n",
        "    epoch_acc = 0\n",
        "    \n",
        "    #set the model in training phase\n",
        "    model.train()  \n",
        "    \n",
        "    for idx, (label, text, text_lengths) in enumerate(dataloader):\n",
        "        \n",
        "        #resets the gradients after every batch\n",
        "        optimizer.zero_grad()   \n",
        "\n",
        "        #convert to 1D tensor\n",
        "        predictions = model(text, text_lengths).squeeze()\n",
        "    \n",
        "        #compute the loss\n",
        "        loss = criterion(predictions, label)\n",
        "        \n",
        "        #compute the binary accuracy\n",
        "        acc = binary_accuracy(predictions, label)   \n",
        "        \n",
        "        #backpropage the loss and compute the gradients\n",
        "        loss.backward()       \n",
        "        \n",
        "        #update the weights\n",
        "        optimizer.step()      \n",
        "        \n",
        "        #loss and accuracy\n",
        "        epoch_loss += loss.item()  \n",
        "        epoch_acc += acc.item()    \n",
        "        \n",
        "        if idx % 1000 == 0:\n",
        "            print (f\"Completed {idx}/{len(dataloader)}\")\n",
        "    return epoch_loss / len(dataloader), epoch_acc / len(dataloader)"
      ],
      "execution_count": 23,
      "outputs": []
    },
    {
      "cell_type": "code",
      "metadata": {
        "id": "QQER4oiokMVW"
      },
      "source": [
        ""
      ],
      "execution_count": 23,
      "outputs": []
    },
    {
      "cell_type": "markdown",
      "metadata": {
        "id": "ZspAKIySkMVW"
      },
      "source": [
        "### Model Evaluate function"
      ]
    },
    {
      "cell_type": "code",
      "metadata": {
        "id": "Su2gNTpykMVW"
      },
      "source": [
        "def evaluate(model, dataloader, criterion):\n",
        "    \n",
        "    #initialize every epoch\n",
        "    epoch_loss = 0\n",
        "    epoch_acc = 0\n",
        "\n",
        "    #deactivating dropout layers\n",
        "    model.eval()\n",
        "    \n",
        "    #deactivates autograd\n",
        "    with torch.no_grad():\n",
        "    \n",
        "        for _, (label, text, text_lengths) in enumerate(dataloader):\n",
        "        \n",
        "            #predict\n",
        "            predictions = model(text, text_lengths).squeeze()\n",
        "            \n",
        "            #compute loss and accuracy\n",
        "            loss = criterion(predictions, label)\n",
        "            acc = binary_accuracy(predictions, label)\n",
        "            \n",
        "            #keep track of loss and accuracy\n",
        "            epoch_loss += loss.item()\n",
        "            epoch_acc += acc.item()\n",
        "        \n",
        "    return epoch_loss / len(dataloader), epoch_acc / len(dataloader)"
      ],
      "execution_count": 24,
      "outputs": []
    },
    {
      "cell_type": "code",
      "metadata": {
        "id": "Nhw5MbnrkMVX"
      },
      "source": [
        ""
      ],
      "execution_count": 24,
      "outputs": []
    },
    {
      "cell_type": "markdown",
      "metadata": {
        "id": "-Ijbht-dkMVX"
      },
      "source": [
        "### Check model's forward pass"
      ]
    },
    {
      "cell_type": "code",
      "metadata": {
        "colab": {
          "base_uri": "https://localhost:8080/"
        },
        "id": "ynGlTHRVkMVX",
        "outputId": "1223f268-abe2-4085-a5ae-d899583ac650"
      },
      "source": [
        "#Check model device type\n",
        "next(model.parameters()).is_cuda, device"
      ],
      "execution_count": 25,
      "outputs": [
        {
          "output_type": "execute_result",
          "data": {
            "text/plain": [
              "(True, device(type='cuda'))"
            ]
          },
          "metadata": {
            "tags": []
          },
          "execution_count": 25
        }
      ]
    },
    {
      "cell_type": "code",
      "metadata": {
        "colab": {
          "base_uri": "https://localhost:8080/"
        },
        "id": "ExL7If9lkMVY",
        "outputId": "a4650755-51a3-460c-b58d-ab6d1e645a0e"
      },
      "source": [
        "len(dataloader_train)"
      ],
      "execution_count": 26,
      "outputs": [
        {
          "output_type": "execute_result",
          "data": {
            "text/plain": [
              "5796"
            ]
          },
          "metadata": {
            "tags": []
          },
          "execution_count": 26
        }
      ]
    },
    {
      "cell_type": "code",
      "metadata": {
        "colab": {
          "base_uri": "https://localhost:8080/"
        },
        "id": "_Y6LqX5rkMVY",
        "outputId": "d50bb4e2-8224-4b4a-933a-71ec3ef0200e"
      },
      "source": [
        "for idx, (label, text, text_lengths) in enumerate(dataloader_train):\n",
        "    print (\"text.shape: \", text.shape)\n",
        "    predictions = model(text, text_lengths)\n",
        "    print (\"predictions.shape: \", predictions.shape)\n",
        "    break"
      ],
      "execution_count": 27,
      "outputs": [
        {
          "output_type": "stream",
          "text": [
            "text.shape:  torch.Size([64, 30])\n",
            "predictions.shape:  torch.Size([64, 1])\n"
          ],
          "name": "stdout"
        }
      ]
    },
    {
      "cell_type": "code",
      "metadata": {
        "colab": {
          "base_uri": "https://localhost:8080/"
        },
        "id": "zLJRvF8zkMVY",
        "outputId": "8da03ac7-12d7-4203-de0c-a7f9f4d55d30"
      },
      "source": [
        "text[0], predictions[0][:10], label[:10]"
      ],
      "execution_count": 28,
      "outputs": [
        {
          "output_type": "execute_result",
          "data": {
            "text/plain": [
              "(tensor([    4,     5,     3,    68,   322,    86,    44,     8,   278,   800,\n",
              "            97,    27,    64,   527,    28,   530,     2,    12,    61,    12,\n",
              "            21,    56,   990,    15, 25903,  5533,    97,    26,   257,    15],\n",
              "        device='cuda:0'),\n",
              " tensor([0.4450], device='cuda:0', grad_fn=<SliceBackward>),\n",
              " tensor([0., 0., 0., 0., 0., 0., 1., 0., 0., 0.], device='cuda:0'))"
            ]
          },
          "metadata": {
            "tags": []
          },
          "execution_count": 28
        }
      ]
    },
    {
      "cell_type": "code",
      "metadata": {
        "id": "fvXFRX9JkMVZ"
      },
      "source": [
        ""
      ],
      "execution_count": 28,
      "outputs": []
    },
    {
      "cell_type": "code",
      "metadata": {
        "id": "rogF2xW_kMVZ"
      },
      "source": [
        ""
      ],
      "execution_count": 28,
      "outputs": []
    },
    {
      "cell_type": "markdown",
      "metadata": {
        "id": "owlI1k00kMVZ"
      },
      "source": [
        "### Train the model\n",
        "\n",
        "This step takes around ~4 min"
      ]
    },
    {
      "cell_type": "code",
      "metadata": {
        "colab": {
          "base_uri": "https://localhost:8080/"
        },
        "id": "w5SRouBikMVZ",
        "outputId": "8b558857-2304-4c23-b87c-b3ae46a06285"
      },
      "source": [
        "model_path = 'saved_weights.pt'\n",
        "\n",
        "N_EPOCHS = 3\n",
        "best_valid_loss = float('inf')\n",
        "\n",
        "for epoch in range(N_EPOCHS):\n",
        "     \n",
        "    ts_string = datetime.now().strftime(\"%m/%d/%Y %H:%M:%S\")\n",
        "    print(f'\\n {ts_string} Epoch: {epoch}')\n",
        "    #train the model\n",
        "    train_loss, train_acc = train(model, dataloader_train, optimizer, criterion)\n",
        "    \n",
        "    #evaluate the model\n",
        "    valid_loss, valid_acc = evaluate(model, dataloader_valid, criterion)\n",
        "    \n",
        "    #save the best model\n",
        "    if valid_loss < best_valid_loss:\n",
        "        best_valid_loss = valid_loss\n",
        "        torch.save(model.state_dict(), model_path)\n",
        "\n",
        "    print(f'\\t Train Loss: {train_loss:.3f} | Train Acc: {train_acc*100:.2f}%')\n",
        "    print(f'\\t Val. Loss: {valid_loss:.3f} |  Val. Acc: {valid_acc*100:.2f}%')"
      ],
      "execution_count": 29,
      "outputs": [
        {
          "output_type": "stream",
          "text": [
            "\n",
            " 03/19/2021 15:57:07 Epoch: 0\n",
            "Completed 0/5796\n",
            "Completed 1000/5796\n",
            "Completed 2000/5796\n",
            "Completed 3000/5796\n",
            "Completed 4000/5796\n",
            "Completed 5000/5796\n",
            "\t Train Loss: 0.133 | Train Acc: 95.05%\n",
            "\t Val. Loss: 0.176 |  Val. Acc: 94.73%\n",
            "\n",
            " 03/19/2021 16:02:04 Epoch: 1\n",
            "Completed 0/5796\n",
            "Completed 1000/5796\n",
            "Completed 2000/5796\n",
            "Completed 3000/5796\n",
            "Completed 4000/5796\n",
            "Completed 5000/5796\n",
            "\t Train Loss: 0.105 | Train Acc: 95.89%\n",
            "\t Val. Loss: 0.187 |  Val. Acc: 94.85%\n",
            "\n",
            " 03/19/2021 16:06:59 Epoch: 2\n",
            "Completed 0/5796\n",
            "Completed 1000/5796\n",
            "Completed 2000/5796\n",
            "Completed 3000/5796\n",
            "Completed 4000/5796\n",
            "Completed 5000/5796\n",
            "\t Train Loss: 0.089 | Train Acc: 96.46%\n",
            "\t Val. Loss: 0.206 |  Val. Acc: 94.89%\n"
          ],
          "name": "stdout"
        }
      ]
    },
    {
      "cell_type": "markdown",
      "metadata": {
        "id": "FLsmS0s7kMVa"
      },
      "source": [
        "### Predict"
      ]
    },
    {
      "cell_type": "code",
      "metadata": {
        "id": "Kqt-juMJkMVa"
      },
      "source": [
        "#load weights\n",
        "#model.load_state_dict(torch.load(model_path));\n",
        "model.eval();\n",
        "\n",
        "def prepare_text(sentence):\n",
        "    text = text_pipeline(sentence)\n",
        "    text_length = len(text)\n",
        "    tensor = torch.tensor(text, dtype=torch.int64)\n",
        "    length = torch.tensor(text_length, dtype=torch.int64)\n",
        "    tensor = tensor.unsqueeze(0)\n",
        "    length = length.unsqueeze(0)\n",
        "    return tensor.to(device), length\n",
        "\n",
        "def predict(model, sentence):\n",
        "    tensor, length = prepare_text(sentence)\n",
        "    prediction = model(tensor, length)                  #prediction \n",
        "    return prediction.item()  "
      ],
      "execution_count": 30,
      "outputs": []
    },
    {
      "cell_type": "code",
      "metadata": {
        "id": "y-XtR-N7kMVa"
      },
      "source": [
        "def insincere_or_not(pred):\n",
        "    return 'Insincere Question' if pred > .5 else 'Normal Question'"
      ],
      "execution_count": 31,
      "outputs": []
    },
    {
      "cell_type": "code",
      "metadata": {
        "id": "gOVIhvoxkMVa",
        "colab": {
          "base_uri": "https://localhost:8080/"
        },
        "outputId": "3940c514-6f53-447c-e314-6a3f7f97c9f4"
      },
      "source": [
        "#sincere question\n",
        "pred = predict(model, \"What is your favorite person in history?\")\n",
        "print (insincere_or_not(pred))"
      ],
      "execution_count": 32,
      "outputs": [
        {
          "output_type": "stream",
          "text": [
            "Normal Question\n"
          ],
          "name": "stdout"
        }
      ]
    },
    {
      "cell_type": "code",
      "metadata": {
        "id": "haMG3d-CkMVa",
        "colab": {
          "base_uri": "https://localhost:8080/"
        },
        "outputId": "6eb104ec-b714-4b3d-ff96-7e4b1b35c7a8"
      },
      "source": [
        "#insincere question\n",
        "pred = predict(model, \"Why Indian girls go crazy about marrying Shri. Rahul Gandhiji?\")\n",
        "print (insincere_or_not(pred))"
      ],
      "execution_count": 33,
      "outputs": [
        {
          "output_type": "stream",
          "text": [
            "Insincere Question\n"
          ],
          "name": "stdout"
        }
      ]
    },
    {
      "cell_type": "code",
      "metadata": {
        "id": "QS2aBpwBkMVa"
      },
      "source": [
        ""
      ],
      "execution_count": 33,
      "outputs": []
    },
    {
      "cell_type": "markdown",
      "metadata": {
        "id": "qIY4vg94kMVb"
      },
      "source": [
        "### Note\n",
        "\n",
        "This notebook used data and code from a blog in https://www.analyticsvidhya.com"
      ]
    },
    {
      "cell_type": "code",
      "metadata": {
        "id": "5G0JqCU8kMVb"
      },
      "source": [
        ""
      ],
      "execution_count": 32,
      "outputs": []
    }
  ]
}